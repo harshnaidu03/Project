{
  "nbformat": 4,
  "nbformat_minor": 0,
  "metadata": {
    "colab": {
      "provenance": []
    },
    "kernelspec": {
      "name": "python3",
      "display_name": "Python 3"
    },
    "language_info": {
      "name": "python"
    }
  },
  "cells": [
    {
      "cell_type": "code",
      "execution_count": null,
      "metadata": {
        "id": "rpElzoKlY-Ik"
      },
      "outputs": [],
      "source": [
        "# To calculate and display student grades based on their marks in multiple subjects."
      ]
    },
    {
      "cell_type": "code",
      "source": [
        "# Step 1: List to store subjects and marks\n",
        "\n",
        "subjects = []\n",
        "marks = []\n",
        "\n",
        "# Step 2: Input subjects and marks\n",
        "num_subjects = int(input(\"Enter the number of subjects: \"))\n",
        "for _ in range(num_subjects):\n",
        "  subject = input(\"Enter the subject name: \")\n",
        "  mark = int(input(f\"Enter marks for {subject}: \"))\n",
        "  subjects.append(subject)\n",
        "  marks.append(mark)\n",
        "\n",
        "# Step 3: Define Grades\n",
        "def calculate_grade(percentage):\n",
        "  if percentage >= 90: # A: 90+, B: 75 - 89, C: 60 - 74, D: 40 - 59, F: < 40\n",
        "    return \"A\"\n",
        "  elif percentage >= 75:\n",
        "    return \"B\"\n",
        "  elif percentage >= 60:\n",
        "    return \"C\"\n",
        "  elif percentage >= 40:\n",
        "    return \"D\"\n",
        "  else:\n",
        "    return \"F\"\n",
        "\n",
        "# Step 4: Calculate total, percentage, and grade\n",
        "total_marks = sum(marks)\n",
        "percentage = total_marks / num_subjects\n",
        "grade = calculate_grade(percentage)\n",
        "\n",
        "# Step 5: Display Results\n",
        "print(\"\\n --- Student Report ---\")\n",
        "for i in range(num_subjects):\n",
        "  print(f\"{subjects[i]}: {marks[i]} marks\")\n",
        "print(f\"Total Marks: {total_marks}\")\n",
        "print(f\"Percentage: {percentage:.2f}%\")\n",
        "print(f\"Grade: {grade}\")"
      ],
      "metadata": {
        "colab": {
          "base_uri": "https://localhost:8080/"
        },
        "id": "6DDFyeQmZRAK",
        "outputId": "d4a8521d-cd2d-4379-d3ae-98baf20d5048"
      },
      "execution_count": 1,
      "outputs": [
        {
          "output_type": "stream",
          "name": "stdout",
          "text": [
            "Enter the number of subjects: 3\n",
            "Enter the subject name: English\n",
            "Enter marks for English: 85\n",
            "Enter the subject name: History\n",
            "Enter marks for History: 60\n",
            "Enter the subject name: Computer\n",
            "Enter marks for Computer: 30\n",
            "\n",
            " --- Student Report ---\n",
            "English: 85 marks\n",
            "History: 60 marks\n",
            "Computer: 30 marks\n",
            "Total Marks: 175\n",
            "Percentage: 58.33%\n",
            "Grade: D\n"
          ]
        }
      ]
    }
  ]
}